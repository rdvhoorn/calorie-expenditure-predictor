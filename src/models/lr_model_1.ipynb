{
 "cells": [
  {
   "cell_type": "code",
   "execution_count": 1,
   "metadata": {},
   "outputs": [],
   "source": [
    "import os\n",
    "os.chdir('../..')"
   ]
  },
  {
   "cell_type": "code",
   "execution_count": 2,
   "metadata": {},
   "outputs": [],
   "source": [
    "import logging\n",
    "import sys\n",
    "\n",
    "logger = logging.getLogger(__name__)\n",
    "logger.setLevel(logging.INFO)\n",
    "\n",
    "# Avoid duplicate handlers\n",
    "if not logger.handlers:\n",
    "    handler = logging.StreamHandler(sys.stdout)  # stdout works better than stderr in Jupyter\n",
    "    handler.setFormatter(logging.Formatter('%(asctime)s - %(levelname)s - %(message)s'))\n",
    "    logger.addHandler(handler)\n",
    "\n",
    "SEED = 42 "
   ]
  },
  {
   "cell_type": "code",
   "execution_count": 3,
   "metadata": {},
   "outputs": [],
   "source": [
    "from sklearn.linear_model import Ridge\n",
    "from sklearn.model_selection import KFold\n",
    "from sklearn.metrics import mean_squared_error, mean_squared_log_error\n",
    "import numpy as np\n",
    "import time\n",
    "import logging\n",
    "\n",
    "# Setup logging\n",
    "logging.basicConfig(level=logging.INFO)\n",
    "logger = logging.getLogger(__name__)\n",
    "\n",
    "# Metrics\n",
    "def rmse(y_true, y_pred):\n",
    "    return np.sqrt(mean_squared_error(y_true, y_pred))\n",
    "\n",
    "def rmsle(y_true, y_pred):\n",
    "    y_pred = np.clip(y_pred, 0, None)\n",
    "    y_true = np.clip(y_true, 0, None)\n",
    "    return np.sqrt(mean_squared_log_error(y_true, y_pred))\n",
    "\n",
    "# Linear model wrapper\n",
    "class LinearModelWrapper:\n",
    "    def __init__(self, model_cls=Ridge, model_params=None, metric_fn=rmsle, name=\"ridge_lr\"):\n",
    "        self.model_cls = model_cls\n",
    "        self.model_params = model_params\n",
    "        self.metric_fn = metric_fn\n",
    "        self.name = name\n",
    "        self.models = []\n",
    "        self.oof_preds = None\n",
    "        self.float_type = np.float64\n",
    "\n",
    "    def fit(self, X, y, folds=5):\n",
    "        X = X.astype(self.float_type)\n",
    "        y = y.values.astype(self.float_type) if hasattr(y, 'values') else y.astype(self.float_type)\n",
    "\n",
    "        self.oof_preds = np.zeros(len(X), dtype=self.float_type)\n",
    "        self.models = []\n",
    "        kf = KFold(n_splits=folds, shuffle=True, random_state=SEED)\n",
    "\n",
    "        logger.info(f\"Training {self.name} with {folds}-fold CV\")\n",
    "        start_time = time.time()\n",
    "\n",
    "        for fold, (train_idx, val_idx) in enumerate(kf.split(X), 1):\n",
    "            X_train, X_val = X[train_idx], X[val_idx]\n",
    "            y_train, y_val = y[train_idx], y[val_idx]\n",
    "\n",
    "            model = self.model_cls(**self.model_params)\n",
    "            model.fit(X_train, y_train)\n",
    "\n",
    "            preds = model.predict(X_val)\n",
    "            self.oof_preds[val_idx] = preds\n",
    "            fold_score = self.metric_fn(y_val, preds)\n",
    "            logger.info(f\"Fold {fold} {self.metric_fn.__name__.upper()}: {fold_score:.4f}\")\n",
    "            self.models.append(model)\n",
    "\n",
    "        total_score = self.metric_fn(y, self.oof_preds)\n",
    "        logger.info(f\"OOF {self.metric_fn.__name__.upper()}: {total_score:.4f}\")\n",
    "        logger.info(f\"Finished training {self.name} in {time.time() - start_time:.2f}s\")\n",
    "\n",
    "    def predict(self, X):\n",
    "        X = X.astype(self.float_type)\n",
    "        preds = [model.predict(X) for model in self.models]\n",
    "        return np.mean(np.column_stack(preds), axis=1)\n"
   ]
  },
  {
   "cell_type": "code",
   "execution_count": 4,
   "metadata": {},
   "outputs": [
    {
     "name": "stdout",
     "output_type": "stream",
     "text": [
      "X has 275 features\n"
     ]
    }
   ],
   "source": [
    "from sklearn.preprocessing import StandardScaler\n",
    "import pandas as pd\n",
    "from sklearn.decomposition import PCA\n",
    "from sklearn.preprocessing import PolynomialFeatures\n",
    "\n",
    "\n",
    "df_train = pd.read_csv('data/train.csv')\n",
    "df_test = pd.read_csv('data/test.csv')\n",
    "\n",
    "# Transform target (Calories) with log1p\n",
    "# df_train['Calories'] = np.log1p(df_train['Calories'])\n",
    "\n",
    "def feature_engineering(df):\n",
    "    # Transform Sex to 0 and 1\n",
    "    df['Sex'] = df['Sex'].map({'male': 0, 'female': 1})\n",
    "\n",
    "    # Add BMI as a feature by dividing weight by height/100 squared\n",
    "    df['BMI'] = df['Weight'] / ((df['Height']/100) ** 2)\n",
    "\n",
    "    # Exercise intensity (heart rate / duration)\n",
    "    df['Exercise_Intensity'] = df['Heart_Rate'] / df['Duration']\n",
    "\n",
    "    # Heart rate duration\n",
    "    df['Heart_Rate_Duration'] = df['Heart_Rate'] * df['Duration']\n",
    "\n",
    "    # Temperature duration interaction\n",
    "    df['Temp_Duration'] = df['Body_Temp'] * df['Duration']\n",
    "\n",
    "    # HR divided by temp\n",
    "    df['HR_div_Temp'] = df['Heart_Rate'] / df['Body_Temp']\n",
    "\n",
    "    # HR divided by age\n",
    "    df['HR_div_Age'] = df['Heart_Rate'] / df['Age']\n",
    "\n",
    "    # Age BMI interaction\n",
    "    df['Age_BMI_Inter'] = df['Age'] * df['BMI']\n",
    "\n",
    "    # Max heart rate (220 - Age)\n",
    "    df['Max_Heart_Rate'] = 220 - df['Age']\n",
    "\n",
    "    # Heart rate intensity (heart rate / max heart rate)\n",
    "    df['Heart_Rate_Intensity'] = df['Heart_Rate'] / df['Max_Heart_Rate']\n",
    "\n",
    "    # df['BMR'] = 10 * df['Weight'] + 6.25 * (df['Height']/100) - 5 * df['Age'] + 5\n",
    "\n",
    "    # df['Body_Fat_Percentage'] = (1.2 * df['BMI']) + (0.23 * df['Age']) - (10.8 * df['Sex']) - 5.4\n",
    "\n",
    "    # df['Resting_Heart_Rate'] = 0.7 * df['Heart_Rate'] + (0.3 * df['Age']) - 5.4\n",
    "\n",
    "    # Add log transformations for skewed features\n",
    "    skewed_feats = ['Age', 'Weight', 'Body_Temp', 'Height', 'Duration', 'Heart_Rate']\n",
    "    for feat in skewed_feats:\n",
    "        df[f'Log_{feat}'] = np.log1p(df[feat])\n",
    "\n",
    "    return df\n",
    "\n",
    "# Apply feature engineering to both train and test datasets\n",
    "df_train = feature_engineering(df_train)\n",
    "df_test = feature_engineering(df_test)\n",
    "\n",
    "# Prepare features and target\n",
    "X_train = df_train.drop(['Calories', 'id'], axis=1)\n",
    "y_train = df_train['Calories']\n",
    "\n",
    "# Standard scale X_train\n",
    "scaler = StandardScaler()\n",
    "X_train = scaler.fit_transform(X_train)\n",
    "\n",
    "# Polynomial features on X_train\n",
    "poly = PolynomialFeatures(degree=2, include_bias=False)\n",
    "X_train = poly.fit_transform(X_train)\n",
    "\n",
    "# Put it back into a dataframe\n",
    "X_train = pd.DataFrame(X_train, columns=poly.get_feature_names_out())\n",
    "\n",
    "print(f\"X has {X_train.shape[1]} features\")"
   ]
  },
  {
   "cell_type": "code",
   "execution_count": 5,
   "metadata": {},
   "outputs": [
    {
     "name": "stdout",
     "output_type": "stream",
     "text": [
      "2025-05-11 20:44:08,639 - INFO - Training TTLR with 5-fold CV\n"
     ]
    },
    {
     "name": "stderr",
     "output_type": "stream",
     "text": [
      "INFO:__main__:Training TTLR with 5-fold CV\n"
     ]
    },
    {
     "name": "stdout",
     "output_type": "stream",
     "text": [
      "2025-05-11 20:44:34,362 - INFO - Fold 1 RMSLE: 0.0604\n"
     ]
    },
    {
     "name": "stderr",
     "output_type": "stream",
     "text": [
      "INFO:__main__:Fold 1 RMSLE: 0.0604\n"
     ]
    },
    {
     "name": "stdout",
     "output_type": "stream",
     "text": [
      "2025-05-11 20:44:59,052 - INFO - Fold 2 RMSLE: 0.0610\n"
     ]
    },
    {
     "name": "stderr",
     "output_type": "stream",
     "text": [
      "INFO:__main__:Fold 2 RMSLE: 0.0610\n"
     ]
    },
    {
     "name": "stdout",
     "output_type": "stream",
     "text": [
      "2025-05-11 20:45:22,049 - INFO - Fold 3 RMSLE: 0.0605\n"
     ]
    },
    {
     "name": "stderr",
     "output_type": "stream",
     "text": [
      "INFO:__main__:Fold 3 RMSLE: 0.0605\n"
     ]
    },
    {
     "name": "stdout",
     "output_type": "stream",
     "text": [
      "2025-05-11 20:45:42,428 - INFO - Fold 4 RMSLE: 0.0606\n"
     ]
    },
    {
     "name": "stderr",
     "output_type": "stream",
     "text": [
      "INFO:__main__:Fold 4 RMSLE: 0.0606\n"
     ]
    },
    {
     "name": "stdout",
     "output_type": "stream",
     "text": [
      "2025-05-11 20:46:04,681 - INFO - Fold 5 RMSLE: 0.0595\n"
     ]
    },
    {
     "name": "stderr",
     "output_type": "stream",
     "text": [
      "INFO:__main__:Fold 5 RMSLE: 0.0595\n"
     ]
    },
    {
     "name": "stdout",
     "output_type": "stream",
     "text": [
      "2025-05-11 20:46:04,728 - INFO - OOF RMSLE: 0.0604\n"
     ]
    },
    {
     "name": "stderr",
     "output_type": "stream",
     "text": [
      "INFO:__main__:OOF RMSLE: 0.0604\n"
     ]
    },
    {
     "name": "stdout",
     "output_type": "stream",
     "text": [
      "2025-05-11 20:46:04,730 - INFO - Finished training TTLR in 116.09s\n"
     ]
    },
    {
     "name": "stderr",
     "output_type": "stream",
     "text": [
      "INFO:__main__:Finished training TTLR in 116.09s\n"
     ]
    }
   ],
   "source": [
    "from sklearn.linear_model import LinearRegression\n",
    "from sklearn.compose import TransformedTargetRegressor\n",
    "\n",
    "linear_model = LinearModelWrapper(\n",
    "    model_cls=TransformedTargetRegressor,\n",
    "    model_params={'regressor': LinearRegression(), 'func': np.log1p, 'inverse_func': np.expm1},\n",
    "    metric_fn=rmsle,\n",
    "    name='TTLR'\n",
    ")\n",
    "\n",
    "linear_model.fit(X_train.values, y_train, folds=5)"
   ]
  },
  {
   "cell_type": "code",
   "execution_count": 7,
   "metadata": {},
   "outputs": [
    {
     "data": {
      "text/plain": [
       "array([145.65801656,  36.06555165,  28.99464365, ..., 234.30580657,\n",
       "       106.72924764, 100.13956455], shape=(750000,))"
      ]
     },
     "execution_count": 7,
     "metadata": {},
     "output_type": "execute_result"
    }
   ],
   "source": [
    "np.save('lr1_oof_preds.npy', linear_model.oof_preds)"
   ]
  },
  {
   "cell_type": "code",
   "execution_count": 8,
   "metadata": {},
   "outputs": [],
   "source": [
    "# Save the 'id' column before dropping it\n",
    "test_ids = df_test['id']\n",
    "\n",
    "# Drop 'id' column before prediction\n",
    "df_test = df_test.drop('id', axis=1)\n",
    "\n",
    "X_test = scaler.transform(df_test)\n",
    "\n",
    "X_test = poly.transform(X_test)\n",
    "\n",
    "# Make predictions on test data\n",
    "test_preds = linear_model.predict(X_test)\n",
    "\n",
    "# Create submission file\n",
    "submission = pd.DataFrame({\n",
    "    'id': test_ids,\n",
    "    'Calories': test_preds\n",
    "})\n",
    "\n",
    "# Save submission file\n",
    "submission.to_csv('data/ensemble/lr1_submission.csv', index=False)"
   ]
  },
  {
   "cell_type": "code",
   "execution_count": null,
   "metadata": {},
   "outputs": [],
   "source": []
  }
 ],
 "metadata": {
  "kernelspec": {
   "display_name": ".venv",
   "language": "python",
   "name": "python3"
  },
  "language_info": {
   "codemirror_mode": {
    "name": "ipython",
    "version": 3
   },
   "file_extension": ".py",
   "mimetype": "text/x-python",
   "name": "python",
   "nbconvert_exporter": "python",
   "pygments_lexer": "ipython3",
   "version": "3.12.2"
  }
 },
 "nbformat": 4,
 "nbformat_minor": 2
}
