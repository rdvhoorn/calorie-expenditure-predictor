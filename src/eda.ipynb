{
 "cells": [
  {
   "cell_type": "code",
   "execution_count": null,
   "metadata": {},
   "outputs": [],
   "source": [
    "import pandas as pd\n",
    "import numpy as np\n",
    "import matplotlib.pyplot as plt\n",
    "import seaborn as sns"
   ]
  },
  {
   "cell_type": "code",
   "execution_count": 4,
   "metadata": {},
   "outputs": [],
   "source": [
    "# Set working directory to the project root (1 folder up)\n",
    "import os\n",
    "os.chdir('..')"
   ]
  },
  {
   "cell_type": "code",
   "execution_count": null,
   "metadata": {},
   "outputs": [],
   "source": [
    "# Load the data\n",
    "df_train = pd.read_csv('data/train.csv')\n",
    "df_test = pd.read_csv('data/test.csv')\n",
    "\n",
    "print(df_train.shape)\n",
    "print(df_test.shape)\n",
    "\n",
    "# Explore the data\n",
    "df_train.head()"
   ]
  },
  {
   "cell_type": "code",
   "execution_count": null,
   "metadata": {},
   "outputs": [],
   "source": [
    "# Show overview of missing values\n",
    "print(df_train.isnull().sum())\n",
    "\n",
    "print(df_test.isnull().sum())\n",
    "\n",
    "# No missing data\n"
   ]
  },
  {
   "cell_type": "code",
   "execution_count": 38,
   "metadata": {},
   "outputs": [],
   "source": [
    "# Transform Sex to 0 and 1\n",
    "df_train['Sex'] = df_train['Sex'].map({'male': 0, 'female': 1})\n",
    "df_test['Sex'] = df_test['Sex'].map({'male': 0, 'female': 1})\n",
    "\n",
    "# Transform target (Calories) with log1p\n",
    "df_train['Calories'] = np.log1p(df_train['Calories'])\n"
   ]
  },
  {
   "cell_type": "code",
   "execution_count": null,
   "metadata": {},
   "outputs": [],
   "source": [
    "# Show column statistics \n",
    "print(df_train.describe())\n"
   ]
  },
  {
   "cell_type": "code",
   "execution_count": null,
   "metadata": {},
   "outputs": [],
   "source": [
    "# Plot histograms for all numeric features\n",
    "fig, axes = plt.subplots(3, 3, figsize=(15, 15))\n",
    "axes = axes.ravel()\n",
    "\n",
    "numeric_cols = ['Age', 'Height', 'Weight', 'Duration', 'Heart_Rate', 'Body_Temp', 'Calories']\n",
    "\n",
    "for idx, col in enumerate(numeric_cols):\n",
    "    sns.histplot(data=df_train, x=col, ax=axes[idx], bins=50)\n",
    "    axes[idx].set_title(f'Distribution of {col}')\n",
    "\n",
    "# Remove the empty subplot\n",
    "axes[-1].remove()\n",
    "axes[-2].remove()\n",
    "\n",
    "plt.tight_layout()\n",
    "\n"
   ]
  },
  {
   "cell_type": "code",
   "execution_count": null,
   "metadata": {},
   "outputs": [],
   "source": [
    "# Make a correlation matrix  all features\n",
    "corr_matrix = df_train.corr()\n",
    "\n",
    "# Plot the correlation matrix\n",
    "plt.figure(figsize=(12, 8))\n",
    "sns.heatmap(corr_matrix, annot=True, cmap='coolwarm', vmin=-1, vmax=1)\n",
    "plt.title('Correlation Matrix of Features')\n",
    "plt.show()\n",
    "\n"
   ]
  },
  {
   "cell_type": "code",
   "execution_count": null,
   "metadata": {},
   "outputs": [],
   "source": [
    "# Plot feature interactions using scatterplots\n",
    "fig, axes = plt.subplots(4, 3, figsize=(15, 20))\n",
    "axes = axes.ravel()\n",
    "\n",
    "# Define pairs to plot\n",
    "pairs = [\n",
    "    ('Age', 'Duration'),\n",
    "    ('Age', 'Heart_Rate'), \n",
    "    ('Age', 'Body_Temp'),\n",
    "    ('Age', 'Calories'),\n",
    "    ('Duration', 'Heart_Rate'),\n",
    "    ('Duration', 'Body_Temp'), \n",
    "    ('Duration', 'Calories'),\n",
    "    ('Heart_Rate', 'Body_Temp'),\n",
    "    ('Heart_Rate', 'Calories'),\n",
    "    ('Body_Temp', 'Calories')\n",
    "]\n",
    "\n",
    "# Create scatterplots\n",
    "for idx, (x, y) in enumerate(pairs):\n",
    "    sns.scatterplot(data=df_train, x=x, y=y, ax=axes[idx])\n",
    "    axes[idx].set_title(f'{x} vs {y}')\n",
    "\n",
    "# Remove empty subplots\n",
    "axes[-1].remove()\n",
    "axes[-2].remove()\n",
    "\n",
    "plt.tight_layout()\n",
    "\n",
    "\n",
    "\n"
   ]
  },
  {
   "cell_type": "code",
   "execution_count": null,
   "metadata": {},
   "outputs": [],
   "source": [
    "# Implement basic lightgbm model on the training data\n",
    "import lightgbm as lgb\n",
    "from lightgbm import LGBMRegressor\n",
    "from sklearn.model_selection import train_test_split\n",
    "from sklearn.metrics import mean_squared_error\n",
    "import numpy as np\n",
    "\n",
    "df_train = pd.read_csv('data/train.csv')\n",
    "df_test = pd.read_csv('data/test.csv')\n",
    "\n",
    "# Transform Sex to 0 and 1\n",
    "df_train['Sex'] = df_train['Sex'].map({'male': 0, 'female': 1})\n",
    "df_test['Sex'] = df_test['Sex'].map({'male': 0, 'female': 1})\n",
    "\n",
    "# Transform target (Calories) with log1p\n",
    "df_train['Calories'] = np.log1p(df_train['Calories'])\n",
    "\n",
    "# Create column interactions between all numerical columns\n",
    "numeric_cols = ['Age', 'Height', 'Weight', 'Duration', 'Heart_Rate', 'Body_Temp']\n",
    "\n",
    "# Create interaction features\n",
    "for i in range(len(numeric_cols)):\n",
    "    for j in range(i+1, len(numeric_cols)):\n",
    "        col1, col2 = numeric_cols[i], numeric_cols[j]\n",
    "        interaction_name = f'{col1}_{col2}_interaction'\n",
    "        df_train[interaction_name] = df_train[col1] * df_train[col2]\n",
    "        df_test[interaction_name] = df_test[col1] * df_test[col2]\n",
    "\n",
    "# Prepare features and target\n",
    "X = df_train.drop(['Calories', 'id'], axis=1)\n",
    "y = df_train['Calories']\n",
    "\n",
    "# Split data\n",
    "X_train, X_val, y_train, y_val = train_test_split(X, y, test_size=0.2, random_state=42)\n",
    "\n",
    "# Create LightGBM datasets\n",
    "train_data = lgb.Dataset(X_train, label=y_train)\n",
    "val_data = lgb.Dataset(X_val, label=y_val)\n",
    "\n",
    "# Set parameters\n",
    "params = {\n",
    "    'objective': 'regression',\n",
    "    'metric': 'rmse',\n",
    "    'num_leaves': 1024,\n",
    "    'max_bin': 1024,\n",
    "    'learning_rate': 0.02,\n",
    "    'subsample': 0.8,\n",
    "    'n_estimators': 1000,\n",
    "    'verbose': 1\n",
    "}\n",
    "\n",
    "model = LGBMRegressor(**params)\n",
    "model.fit(\n",
    "    X_train, y_train,\n",
    "    eval_set=[(X_val, y_val)],\n",
    "    eval_metric='rmse',\n",
    "    callbacks=[\n",
    "        lgb.early_stopping(stopping_rounds=100),\n",
    "        lgb.log_evaluation(period=100)\n",
    "    ]\n",
    ")\n",
    "\n",
    "# Make predictions\n",
    "val_preds = model.predict(X_val)\n",
    "\n",
    "# Calculate RMSE\n",
    "rmse = np.sqrt(mean_squared_error(y_val, val_preds))\n",
    "print(f'Validation RMSE: {rmse}')\n"
   ]
  },
  {
   "cell_type": "code",
   "execution_count": null,
   "metadata": {},
   "outputs": [],
   "source": [
    "# Save the 'id' column before dropping it\n",
    "test_ids = df_test['id']\n",
    "\n",
    "# Drop 'id' column before prediction\n",
    "df_test = df_test.drop('id', axis=1)\n",
    "\n",
    "# Make predictions on test data\n",
    "test_preds = model.predict(df_test)\n",
    "\n",
    "# Transform test predictions with expm1\n",
    "test_preds = np.expm1(test_preds)\n",
    "\n",
    "# Create submission file\n",
    "submission = pd.DataFrame({\n",
    "    'id': test_ids,\n",
    "    'Calories': test_preds\n",
    "})\n",
    "\n",
    "# Save submission file\n",
    "submission.to_csv('submissions/submission_1.csv', index=False)"
   ]
  }
 ],
 "metadata": {
  "kernelspec": {
   "display_name": ".venv",
   "language": "python",
   "name": "python3"
  },
  "language_info": {
   "codemirror_mode": {
    "name": "ipython",
    "version": 3
   },
   "file_extension": ".py",
   "mimetype": "text/x-python",
   "name": "python",
   "nbconvert_exporter": "python",
   "pygments_lexer": "ipython3",
   "version": "3.12.2"
  }
 },
 "nbformat": 4,
 "nbformat_minor": 2
}
